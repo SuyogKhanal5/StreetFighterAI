{
 "cells": [
  {
   "cell_type": "markdown",
   "metadata": {},
   "source": [
    "## python -m pip install pip==23.2\n",
    "^ this version worked for me"
   ]
  },
  {
   "cell_type": "markdown",
   "metadata": {},
   "source": [
    "## pip install gym-retro"
   ]
  },
  {
   "cell_type": "markdown",
   "metadata": {},
   "source": [
    "## pip install setuptools==65.5.0 \"wheel<0.40.0\""
   ]
  },
  {
   "cell_type": "markdown",
   "metadata": {},
   "source": [
    "## pip install gym==0.21.0"
   ]
  },
  {
   "cell_type": "code",
   "execution_count": 16,
   "metadata": {},
   "outputs": [
    {
     "name": "stdout",
     "output_type": "stream",
     "text": [
      "Requirement already satisfied: gym in d:\\streetfighterrl\\env_3\\lib\\site-packages (0.19.0)\n",
      "Requirement already satisfied: gym-retro in d:\\streetfighterrl\\env_3\\lib\\site-packages (0.8.0)\n",
      "Requirement already satisfied: numpy>=1.18.0 in d:\\streetfighterrl\\env_3\\lib\\site-packages (from gym) (1.24.4)\n",
      "Requirement already satisfied: cloudpickle<1.7.0,>=1.2.0 in d:\\streetfighterrl\\env_3\\lib\\site-packages (from gym) (1.6.0)\n",
      "Requirement already satisfied: pyglet==1.*,>=1.3.2 in d:\\streetfighterrl\\env_3\\lib\\site-packages (from gym-retro) (1.5.29)\n",
      "Note: you may need to restart the kernel to use updated packages.\n"
     ]
    },
    {
     "name": "stderr",
     "output_type": "stream",
     "text": [
      "\n",
      "[notice] A new release of pip is available: 23.2 -> 24.3.1\n",
      "[notice] To update, run: python.exe -m pip install --upgrade pip\n"
     ]
    }
   ],
   "source": [
    "%pip install gym gym-retro"
   ]
  },
  {
   "cell_type": "markdown",
   "metadata": {},
   "source": [
    "### Take note of my versions^"
   ]
  },
  {
   "cell_type": "code",
   "execution_count": 17,
   "metadata": {},
   "outputs": [],
   "source": [
    "# Import retro to play Street Fighter using a ROM\n",
    "import retro\n",
    "# Import time to slow down game\n",
    "import time"
   ]
  },
  {
   "cell_type": "code",
   "execution_count": 18,
   "metadata": {},
   "outputs": [],
   "source": [
    "# python -m retro.import . # Run this from the roms folder, or where you have your game roms "
   ]
  },
  {
   "cell_type": "code",
   "execution_count": 19,
   "metadata": {},
   "outputs": [],
   "source": [
    "# Closes the game environment - important given we can only run one at a time \n",
    "# env.close()"
   ]
  },
  {
   "cell_type": "markdown",
   "metadata": {},
   "source": [
    "# Setup Environment\n",
    "## What we are going to do! FUNNN\n",
    "\n",
    "- Observation Preprocess - grayscale (DONE), frame delta, resize the frame so we have less pixels (DONE)\n",
    "- Filter the action - parameter DONE\n",
    "- Reward function - set this to the score\n"
   ]
  },
  {
   "cell_type": "code",
   "execution_count": 20,
   "metadata": {},
   "outputs": [
    {
     "name": "stdout",
     "output_type": "stream",
     "text": [
      "Requirement already satisfied: opencv-python in d:\\streetfighterrl\\env_3\\lib\\site-packages (4.10.0.84)\n",
      "Requirement already satisfied: numpy>=1.17.0 in d:\\streetfighterrl\\env_3\\lib\\site-packages (from opencv-python) (1.24.4)\n",
      "Note: you may need to restart the kernel to use updated packages.\n"
     ]
    },
    {
     "name": "stderr",
     "output_type": "stream",
     "text": [
      "\n",
      "[notice] A new release of pip is available: 23.2 -> 24.3.1\n",
      "[notice] To update, run: python.exe -m pip install --upgrade pip\n"
     ]
    }
   ],
   "source": [
    "%pip install opencv-python"
   ]
  },
  {
   "cell_type": "code",
   "execution_count": 21,
   "metadata": {},
   "outputs": [],
   "source": [
    "# Import environment base class for a wrapper \n",
    "from gym import Env \n",
    "# Import the space shapes for the environment\n",
    "from gym.spaces import MultiBinary, Discrete, Box\n",
    "# Import numpy to calculate frame delta \n",
    "import numpy as np\n",
    "# Import opencv for grayscaling\n",
    "import cv2\n",
    "# Import matplotlib for plotting the image\n",
    "from matplotlib import pyplot as plt"
   ]
  },
  {
   "cell_type": "code",
   "execution_count": 22,
   "metadata": {},
   "outputs": [],
   "source": [
    "# 1. frame\n",
    "# 2. preprocess 200x256x3 -> 84x84x1\n",
    "# 3. change in pixels: current_frame-last_frame"
   ]
  },
  {
   "cell_type": "code",
   "execution_count": 23,
   "metadata": {},
   "outputs": [],
   "source": [
    "# B, A, _, _, UP, DOWN, LEFT, RIGHT, C, Y, X, Z\n",
    "# Every possible action for a given step in Street Fighter II\n",
    "possible_actions = {\n",
    "    # Idle\n",
    "    0: [0, 0, 0, 0, 0, 0, 0, 0, 0, 0, 0, 0],\n",
    "    # Left\n",
    "    1 : [0, 0, 0, 0, 0, 0, 1, 0, 0, 0, 0, 0],\n",
    "    # Right\n",
    "    2 : [0, 0, 0, 0, 0, 0, 0, 1, 0, 0, 0, 0],\n",
    "    # Up\n",
    "    3 : [0, 0, 0, 0, 1, 0, 0, 0, 0, 0, 0, 0],\n",
    "    # Down\n",
    "    4 : [0, 0, 0, 0, 0, 1, 0, 0, 0, 0, 0, 0],\n",
    "    # Light Kick\n",
    "    5 : [0, 1, 0, 0, 0, 0, 0, 0, 0, 0, 0, 0],\n",
    "    # Medium Kick\n",
    "    6 : [1, 0, 0, 0, 0, 0, 0, 0, 0, 0, 0, 0],\n",
    "    # Hard Kick\n",
    "    7 : [0, 0, 0, 0, 0, 0, 0, 0, 1, 0, 0, 0],\n",
    "    # Light Punch\n",
    "    8 : [0, 0, 0, 0, 0, 0, 0, 0, 0, 0, 1, 0],\n",
    "    # Medium Punch\n",
    "    9 : [0, 0, 0, 0, 0, 0, 0, 0, 0, 1, 0, 0],\n",
    "    # Hard Punch\n",
    "    10 : [0, 0, 0, 0, 0, 0, 0, 0, 0, 0, 0, 1],\n",
    "    # Down Left\n",
    "    11 : [0, 0, 0, 0, 0, 1, 1, 0, 0, 0, 0, 0],\n",
    "    # Down Right\n",
    "    12 : [0, 0, 0, 0, 0, 1, 0, 1, 0, 0, 0, 0],\n",
    "    # Up Left\n",
    "    13 : [0, 0, 0, 0, 1, 0, 1, 0, 0, 0, 0, 0],\n",
    "    # Up Right\n",
    "    14 : [0, 0, 0, 0, 1, 0, 0, 1, 0, 0, 0, 0],\n",
    "}"
   ]
  },
  {
   "cell_type": "code",
   "execution_count": 24,
   "metadata": {},
   "outputs": [],
   "source": [
    "class StreetFighter(Env):\n",
    "    def __init__(self):\n",
    "        super().__init__()\n",
    "        self.observation_space = Box(\n",
    "            low=0,\n",
    "            high=255,\n",
    "            shape=(84, 84, 3),  # Keep 3 channels for RGB\n",
    "            dtype=np.uint8\n",
    "        )\n",
    "        self.action_space = Discrete(12)  # type of actions that can be taken\n",
    "        self.game = retro.make(\n",
    "            game='StreetFighterIISpecialChampionEdition-Genesis',\n",
    "            use_restricted_actions=retro.Actions.DISCRETE\n",
    "        )\n",
    "\n",
    "    def reset(self):\n",
    "        obs = self.game.reset()\n",
    "        obs = self.preprocess(obs)\n",
    "        self.previous_frame = obs\n",
    "        self.score = 0\n",
    "        return obs\n",
    "\n",
    "    def preprocess(self, observation):\n",
    "        # Resize first to reduce computation\n",
    "        resized = cv2.resize(observation, (84, 84), interpolation=cv2.INTER_AREA)\n",
    "        \n",
    "        # Simple color quantization using bitwise operations\n",
    "        # Reduce to 3 bits per channel (8 values per channel)\n",
    "        quantized = resized & 0b11100000\n",
    "        \n",
    "        # Optional: Create more distinct colors by increasing contrast\n",
    "        # This helps make different elements more distinguishable\n",
    "        quantized = cv2.convertScaleAbs(quantized, alpha=1.2, beta=10)\n",
    "        \n",
    "        # Method 1: Simple bitwise quantization\n",
    "        return quantized\n",
    "\n",
    "    def step(self, action):\n",
    "        obs, reward, done, info = self.game.step(action)\n",
    "        obs = self.preprocess(obs)\n",
    "        reward = info['score'] - self.score\n",
    "        self.score = info['score']\n",
    "        return obs, reward, done, info\n",
    "\n",
    "    def render(self, *args, **kwargs):\n",
    "        self.game.render()\n",
    "\n",
    "    def close(self):\n",
    "        self.game.close()"
   ]
  },
  {
   "cell_type": "code",
   "execution_count": 25,
   "metadata": {},
   "outputs": [],
   "source": [
    "# Class based on github\n",
    "class StreetFighter(Env): # pass in basic env from above to preprocessing\n",
    "    def __init__(self):\n",
    "        super().__init__() # inherit from base env\n",
    "        # Specify action space and observation space \n",
    "        self.observation_space = Box(\n",
    "            low=0,\n",
    "            high=255,\n",
    "            shape=(84, 84, 3),  # Keep 3 channels for RGB\n",
    "            dtype=np.uint8\n",
    "        )\n",
    "        self.action_space = Discrete(12) # type of actions that can be taken\n",
    "        self.health = 144\n",
    "        self.enemy_health = 144\n",
    "        self.score = 0\n",
    "        self.matches_won = 0\n",
    "        self.continue_timer = 100\n",
    "        self.enemy_matches_won = 0\n",
    "        # self.previous_action = np.zeros(12)\n",
    "        # self.combo_scaler = 1\n",
    "        # self.last_damage_instance = 0\n",
    "        # Startup and instance of the game \n",
    "        self.game = retro.make(game='StreetFighterIISpecialChampionEdition-Genesis', use_restricted_actions=retro.Actions.DISCRETE) # used to get valid button combos\n",
    "    \n",
    "    def reset(self): # restart\n",
    "        # Return the first frame \n",
    "        obs = self.game.reset()\n",
    "        obs = self.preprocess(obs) \n",
    "        self.previous_frame = obs # sets previous frame to current frame\n",
    "        \n",
    "        # Create a attribute to hold the score delta \n",
    "        self.score = 0 \n",
    "        return obs\n",
    "    \n",
    "    def preprocess(self, observation):\n",
    "        # Resize first to reduce computation\n",
    "        resized = cv2.resize(observation, (84, 84), interpolation=cv2.INTER_AREA)\n",
    "        \n",
    "        # Simple color quantization using bitwise operations\n",
    "        # Reduce to 3 bits per channel (8 values per channel)\n",
    "        quantized = resized & 0b11100000\n",
    "        \n",
    "        # Optional: Create more distinct colors by increasing contrast\n",
    "        # This helps make different elements more distinguishable\n",
    "        quantized = cv2.convertScaleAbs(quantized, alpha=1.2, beta=10)\n",
    "        \n",
    "        # Method 1: Simple bitwise quantization\n",
    "        return quantized\n",
    "    \n",
    "    def reward_function(self, state):\n",
    "        # Extract variables\n",
    "        continuetimer = state['continuetimer']\n",
    "        enemy_matches_won = state['enemy_matches_won']\n",
    "        enemy_health = state['enemy_health']\n",
    "        health = state['health']\n",
    "        matches_won = state['matches_won']\n",
    "        score = state['score']\n",
    "\n",
    "        # Initialize reward\n",
    "        reward = 0\n",
    "\n",
    "        # Reward for increasing score each frame (scaled down to avoid excessively large rewards)\n",
    "        reward += score * 0.001  \n",
    "\n",
    "        enemy_health_diff = self.enemy_health - enemy_health\n",
    "        health_diff = self.health - health\n",
    "\n",
    "        # catching edge cases to make sure no reward is being earned outside of a fight (i.e. in between rounds)\n",
    "        if (self.enemy_health != 0 and state['enemy_health'] == 0 and self.health != 0 and state['health'] == 0) or (enemy_health_diff == 0 and health_diff == 0) or (self.health == 0 and self.enemy_health == 0):\n",
    "            reward += 0\n",
    "        else:\n",
    "            if enemy_health_diff > health_diff:\n",
    "                reward += ((enemy_health_diff) - (health_diff)) * 10\n",
    "            else:\n",
    "                reward += ((enemy_health_diff) - (health_diff))\n",
    "\n",
    "        # Update previous states to enable frame-by-frame comparison\n",
    "        self.enemy_health = enemy_health\n",
    "        self.health = health\n",
    "        self.matches_won = matches_won\n",
    "        self.enemy_matches_won = enemy_matches_won\n",
    "        self.continue_timer = continuetimer\n",
    "        self.score = score\n",
    "        # self.last_damage_instance += 1\n",
    "\n",
    "        return reward\n",
    "    \n",
    "    def step(self, action): # how do we process action\n",
    "        # Take a step \n",
    "        obs, reward, done, info = self.game.step(action)\n",
    "        obs = self.preprocess(obs) \n",
    "\n",
    "        self.previous_action = action\n",
    "        \n",
    "        # Frame delta \n",
    "        frame_delta = obs\n",
    "        self.previous_frame = obs \n",
    "        \n",
    "        # Reshape the reward function\n",
    "        reward = self.reward_function(info)\n",
    "\n",
    "        return frame_delta, reward, done, info\n",
    "    \n",
    "    def render(self, *args, **kwargs): # unpack any args and kwargs from stable baseline\n",
    "        self.game.render()\n",
    "        \n",
    "    def close(self):\n",
    "        self.game.close()"
   ]
  },
  {
   "cell_type": "code",
   "execution_count": 26,
   "metadata": {},
   "outputs": [],
   "source": [
    "# # Create custom environment \n",
    "# class StreetFighter(Env): # pass in basic env from above to preprocessing\n",
    "#     def __init__(self):\n",
    "#         super().__init__() # inherit from base env\n",
    "#         # Specify action space and observation space \n",
    "#         self.observation_space = Box(low=0, high=255, shape=(84, 84, 1), dtype=np.uint8) # grayscaled frame, smaller amt of pixels\n",
    "#         self.action_space = MultiBinary(12) # type of actions that can be taken\n",
    "#         # Startup and instance of the game \n",
    "#         self.game = retro.make(game='StreetFighterIISpecialChampionEdition-Genesis', use_restricted_actions=retro.Actions.DISCRETE) # used to get valid button combos\n",
    "    \n",
    "#     def reset(self): # restart\n",
    "#         # Return the first frame \n",
    "#         obs = self.game.reset()\n",
    "#         obs = self.preprocess(obs) \n",
    "#         self.previous_frame = obs # sets previous frame to current frame\n",
    "        \n",
    "#         # Create a attribute to hold the score delta \n",
    "#         self.score = 0 \n",
    "#         return obs\n",
    "    \n",
    "#     def preprocess(self, observation): # grayscale, resize\n",
    "#         # Grayscaling \n",
    "#         gray = cv2.cvtColor(observation, cv2.COLOR_BGR2GRAY)\n",
    "#         # Resize \n",
    "#         resize = cv2.resize(gray, (84,84), interpolation=cv2.INTER_CUBIC)\n",
    "#         # Add the channels value\n",
    "#         channels = np.reshape(resize, (84,84,1))\n",
    "#         return channels \n",
    "    \n",
    "#     def step(self, action): # how do we process action\n",
    "#         # Take a step \n",
    "#         obs, reward, done, info = self.game.step(action)\n",
    "#         obs = self.preprocess(obs) \n",
    "        \n",
    "#         # Frame delta \n",
    "#         frame_delta = obs\n",
    "#         self.previous_frame = obs \n",
    "        \n",
    "#         # Reshape the reward function\n",
    "#         reward = info['score'] - self.score \n",
    "#         self.score = info['score'] \n",
    "        \n",
    "#         return frame_delta, reward, done, info\n",
    "    \n",
    "#     def render(self, *args, **kwargs): # unpack any args and kwargs from stable baseline\n",
    "#         self.game.render()\n",
    "        \n",
    "#     def close(self):\n",
    "#         self.game.close()"
   ]
  },
  {
   "cell_type": "markdown",
   "metadata": {},
   "source": [
    "# Hyperparameter Tune"
   ]
  },
  {
   "cell_type": "markdown",
   "metadata": {},
   "source": [
    "https://pytorch.org/get-started/locally/  <- use this site to download pytorch"
   ]
  },
  {
   "cell_type": "code",
   "execution_count": 27,
   "metadata": {},
   "outputs": [
    {
     "name": "stdout",
     "output_type": "stream",
     "text": [
      "Requirement already satisfied: torch in d:\\streetfighterrl\\env_3\\lib\\site-packages (2.4.1)\n",
      "Requirement already satisfied: torchvision in d:\\streetfighterrl\\env_3\\lib\\site-packages (0.19.1)\n",
      "Requirement already satisfied: torchaudio in d:\\streetfighterrl\\env_3\\lib\\site-packages (2.4.1)\n",
      "Requirement already satisfied: filelock in d:\\streetfighterrl\\env_3\\lib\\site-packages (from torch) (3.16.1)\n",
      "Requirement already satisfied: typing-extensions>=4.8.0 in d:\\streetfighterrl\\env_3\\lib\\site-packages (from torch) (4.12.2)\n",
      "Requirement already satisfied: sympy in d:\\streetfighterrl\\env_3\\lib\\site-packages (from torch) (1.13.3)\n",
      "Requirement already satisfied: networkx in d:\\streetfighterrl\\env_3\\lib\\site-packages (from torch) (3.1)\n",
      "Requirement already satisfied: jinja2 in d:\\streetfighterrl\\env_3\\lib\\site-packages (from torch) (3.1.4)\n",
      "Requirement already satisfied: fsspec in d:\\streetfighterrl\\env_3\\lib\\site-packages (from torch) (2024.10.0)\n",
      "Requirement already satisfied: numpy in d:\\streetfighterrl\\env_3\\lib\\site-packages (from torchvision) (1.24.4)\n",
      "Requirement already satisfied: pillow!=8.3.*,>=5.3.0 in d:\\streetfighterrl\\env_3\\lib\\site-packages (from torchvision) (10.4.0)\n",
      "Requirement already satisfied: MarkupSafe>=2.0 in d:\\streetfighterrl\\env_3\\lib\\site-packages (from jinja2->torch) (2.1.5)\n",
      "Requirement already satisfied: mpmath<1.4,>=1.1.0 in d:\\streetfighterrl\\env_3\\lib\\site-packages (from sympy->torch) (1.3.0)\n",
      "Note: you may need to restart the kernel to use updated packages.\n"
     ]
    },
    {
     "name": "stderr",
     "output_type": "stream",
     "text": [
      "\n",
      "[notice] A new release of pip is available: 23.2 -> 24.3.1\n",
      "[notice] To update, run: python.exe -m pip install --upgrade pip\n"
     ]
    }
   ],
   "source": [
    "%pip install torch torchvision torchaudio"
   ]
  },
  {
   "cell_type": "code",
   "execution_count": 28,
   "metadata": {},
   "outputs": [
    {
     "name": "stdout",
     "output_type": "stream",
     "text": [
      "Requirement already satisfied: stable-baselines3[extra]==1.3.0 in d:\\streetfighterrl\\env_3\\lib\\site-packages (1.3.0)\n",
      "Requirement already satisfied: gym<0.20,>=0.17 in d:\\streetfighterrl\\env_3\\lib\\site-packages (from stable-baselines3[extra]==1.3.0) (0.19.0)\n",
      "Requirement already satisfied: numpy in d:\\streetfighterrl\\env_3\\lib\\site-packages (from stable-baselines3[extra]==1.3.0) (1.24.4)\n",
      "Requirement already satisfied: torch>=1.8.1 in d:\\streetfighterrl\\env_3\\lib\\site-packages (from stable-baselines3[extra]==1.3.0) (2.4.1)\n",
      "Requirement already satisfied: cloudpickle in d:\\streetfighterrl\\env_3\\lib\\site-packages (from stable-baselines3[extra]==1.3.0) (1.6.0)\n",
      "Requirement already satisfied: pandas in d:\\streetfighterrl\\env_3\\lib\\site-packages (from stable-baselines3[extra]==1.3.0) (2.0.3)\n",
      "Requirement already satisfied: matplotlib in d:\\streetfighterrl\\env_3\\lib\\site-packages (from stable-baselines3[extra]==1.3.0) (3.7.5)\n",
      "Requirement already satisfied: opencv-python in d:\\streetfighterrl\\env_3\\lib\\site-packages (from stable-baselines3[extra]==1.3.0) (4.10.0.84)\n",
      "Requirement already satisfied: atari-py~=0.2.0 in d:\\streetfighterrl\\env_3\\lib\\site-packages (from stable-baselines3[extra]==1.3.0) (0.2.9)\n",
      "Requirement already satisfied: pillow in d:\\streetfighterrl\\env_3\\lib\\site-packages (from stable-baselines3[extra]==1.3.0) (10.4.0)\n",
      "Requirement already satisfied: tensorboard>=2.2.0 in d:\\streetfighterrl\\env_3\\lib\\site-packages (from stable-baselines3[extra]==1.3.0) (2.14.0)\n",
      "Requirement already satisfied: psutil in d:\\streetfighterrl\\env_3\\lib\\site-packages (from stable-baselines3[extra]==1.3.0) (6.1.0)\n",
      "Requirement already satisfied: six in d:\\streetfighterrl\\env_3\\lib\\site-packages (from atari-py~=0.2.0->stable-baselines3[extra]==1.3.0) (1.16.0)\n",
      "Requirement already satisfied: absl-py>=0.4 in d:\\streetfighterrl\\env_3\\lib\\site-packages (from tensorboard>=2.2.0->stable-baselines3[extra]==1.3.0) (2.1.0)\n",
      "Requirement already satisfied: grpcio>=1.48.2 in d:\\streetfighterrl\\env_3\\lib\\site-packages (from tensorboard>=2.2.0->stable-baselines3[extra]==1.3.0) (1.67.0)\n",
      "Requirement already satisfied: google-auth<3,>=1.6.3 in d:\\streetfighterrl\\env_3\\lib\\site-packages (from tensorboard>=2.2.0->stable-baselines3[extra]==1.3.0) (2.35.0)\n",
      "Requirement already satisfied: google-auth-oauthlib<1.1,>=0.5 in d:\\streetfighterrl\\env_3\\lib\\site-packages (from tensorboard>=2.2.0->stable-baselines3[extra]==1.3.0) (1.0.0)\n",
      "Requirement already satisfied: markdown>=2.6.8 in d:\\streetfighterrl\\env_3\\lib\\site-packages (from tensorboard>=2.2.0->stable-baselines3[extra]==1.3.0) (3.7)\n",
      "Requirement already satisfied: protobuf>=3.19.6 in d:\\streetfighterrl\\env_3\\lib\\site-packages (from tensorboard>=2.2.0->stable-baselines3[extra]==1.3.0) (5.28.2)\n",
      "Requirement already satisfied: requests<3,>=2.21.0 in d:\\streetfighterrl\\env_3\\lib\\site-packages (from tensorboard>=2.2.0->stable-baselines3[extra]==1.3.0) (2.32.3)\n",
      "Requirement already satisfied: setuptools>=41.0.0 in d:\\streetfighterrl\\env_3\\lib\\site-packages (from tensorboard>=2.2.0->stable-baselines3[extra]==1.3.0) (65.5.0)\n",
      "Requirement already satisfied: tensorboard-data-server<0.8.0,>=0.7.0 in d:\\streetfighterrl\\env_3\\lib\\site-packages (from tensorboard>=2.2.0->stable-baselines3[extra]==1.3.0) (0.7.2)\n",
      "Requirement already satisfied: werkzeug>=1.0.1 in d:\\streetfighterrl\\env_3\\lib\\site-packages (from tensorboard>=2.2.0->stable-baselines3[extra]==1.3.0) (3.0.4)\n",
      "Requirement already satisfied: wheel>=0.26 in d:\\streetfighterrl\\env_3\\lib\\site-packages (from tensorboard>=2.2.0->stable-baselines3[extra]==1.3.0) (0.38.4)\n",
      "Requirement already satisfied: filelock in d:\\streetfighterrl\\env_3\\lib\\site-packages (from torch>=1.8.1->stable-baselines3[extra]==1.3.0) (3.16.1)\n",
      "Requirement already satisfied: typing-extensions>=4.8.0 in d:\\streetfighterrl\\env_3\\lib\\site-packages (from torch>=1.8.1->stable-baselines3[extra]==1.3.0) (4.12.2)\n",
      "Requirement already satisfied: sympy in d:\\streetfighterrl\\env_3\\lib\\site-packages (from torch>=1.8.1->stable-baselines3[extra]==1.3.0) (1.13.3)\n",
      "Requirement already satisfied: networkx in d:\\streetfighterrl\\env_3\\lib\\site-packages (from torch>=1.8.1->stable-baselines3[extra]==1.3.0) (3.1)\n",
      "Requirement already satisfied: jinja2 in d:\\streetfighterrl\\env_3\\lib\\site-packages (from torch>=1.8.1->stable-baselines3[extra]==1.3.0) (3.1.4)\n",
      "Requirement already satisfied: fsspec in d:\\streetfighterrl\\env_3\\lib\\site-packages (from torch>=1.8.1->stable-baselines3[extra]==1.3.0) (2024.10.0)\n",
      "Requirement already satisfied: contourpy>=1.0.1 in d:\\streetfighterrl\\env_3\\lib\\site-packages (from matplotlib->stable-baselines3[extra]==1.3.0) (1.1.1)\n",
      "Requirement already satisfied: cycler>=0.10 in d:\\streetfighterrl\\env_3\\lib\\site-packages (from matplotlib->stable-baselines3[extra]==1.3.0) (0.12.1)\n",
      "Requirement already satisfied: fonttools>=4.22.0 in d:\\streetfighterrl\\env_3\\lib\\site-packages (from matplotlib->stable-baselines3[extra]==1.3.0) (4.54.1)\n",
      "Requirement already satisfied: kiwisolver>=1.0.1 in d:\\streetfighterrl\\env_3\\lib\\site-packages (from matplotlib->stable-baselines3[extra]==1.3.0) (1.4.7)\n",
      "Requirement already satisfied: packaging>=20.0 in d:\\streetfighterrl\\env_3\\lib\\site-packages (from matplotlib->stable-baselines3[extra]==1.3.0) (24.1)\n",
      "Requirement already satisfied: pyparsing>=2.3.1 in d:\\streetfighterrl\\env_3\\lib\\site-packages (from matplotlib->stable-baselines3[extra]==1.3.0) (3.1.4)\n",
      "Requirement already satisfied: python-dateutil>=2.7 in d:\\streetfighterrl\\env_3\\lib\\site-packages (from matplotlib->stable-baselines3[extra]==1.3.0) (2.9.0.post0)\n",
      "Requirement already satisfied: importlib-resources>=3.2.0 in d:\\streetfighterrl\\env_3\\lib\\site-packages (from matplotlib->stable-baselines3[extra]==1.3.0) (6.4.5)\n",
      "Requirement already satisfied: pytz>=2020.1 in d:\\streetfighterrl\\env_3\\lib\\site-packages (from pandas->stable-baselines3[extra]==1.3.0) (2024.2)\n",
      "Requirement already satisfied: tzdata>=2022.1 in d:\\streetfighterrl\\env_3\\lib\\site-packages (from pandas->stable-baselines3[extra]==1.3.0) (2024.2)\n",
      "Requirement already satisfied: cachetools<6.0,>=2.0.0 in d:\\streetfighterrl\\env_3\\lib\\site-packages (from google-auth<3,>=1.6.3->tensorboard>=2.2.0->stable-baselines3[extra]==1.3.0) (5.5.0)\n",
      "Requirement already satisfied: pyasn1-modules>=0.2.1 in d:\\streetfighterrl\\env_3\\lib\\site-packages (from google-auth<3,>=1.6.3->tensorboard>=2.2.0->stable-baselines3[extra]==1.3.0) (0.4.1)\n",
      "Requirement already satisfied: rsa<5,>=3.1.4 in d:\\streetfighterrl\\env_3\\lib\\site-packages (from google-auth<3,>=1.6.3->tensorboard>=2.2.0->stable-baselines3[extra]==1.3.0) (4.9)\n",
      "Requirement already satisfied: requests-oauthlib>=0.7.0 in d:\\streetfighterrl\\env_3\\lib\\site-packages (from google-auth-oauthlib<1.1,>=0.5->tensorboard>=2.2.0->stable-baselines3[extra]==1.3.0) (2.0.0)\n",
      "Requirement already satisfied: zipp>=3.1.0 in d:\\streetfighterrl\\env_3\\lib\\site-packages (from importlib-resources>=3.2.0->matplotlib->stable-baselines3[extra]==1.3.0) (3.20.2)\n",
      "Requirement already satisfied: importlib-metadata>=4.4 in d:\\streetfighterrl\\env_3\\lib\\site-packages (from markdown>=2.6.8->tensorboard>=2.2.0->stable-baselines3[extra]==1.3.0) (8.5.0)\n",
      "Requirement already satisfied: charset-normalizer<4,>=2 in d:\\streetfighterrl\\env_3\\lib\\site-packages (from requests<3,>=2.21.0->tensorboard>=2.2.0->stable-baselines3[extra]==1.3.0) (3.4.0)\n",
      "Requirement already satisfied: idna<4,>=2.5 in d:\\streetfighterrl\\env_3\\lib\\site-packages (from requests<3,>=2.21.0->tensorboard>=2.2.0->stable-baselines3[extra]==1.3.0) (3.10)\n",
      "Requirement already satisfied: urllib3<3,>=1.21.1 in d:\\streetfighterrl\\env_3\\lib\\site-packages (from requests<3,>=2.21.0->tensorboard>=2.2.0->stable-baselines3[extra]==1.3.0) (2.2.3)\n",
      "Requirement already satisfied: certifi>=2017.4.17 in d:\\streetfighterrl\\env_3\\lib\\site-packages (from requests<3,>=2.21.0->tensorboard>=2.2.0->stable-baselines3[extra]==1.3.0) (2024.8.30)\n",
      "Requirement already satisfied: MarkupSafe>=2.1.1 in d:\\streetfighterrl\\env_3\\lib\\site-packages (from werkzeug>=1.0.1->tensorboard>=2.2.0->stable-baselines3[extra]==1.3.0) (2.1.5)\n",
      "Requirement already satisfied: mpmath<1.4,>=1.1.0 in d:\\streetfighterrl\\env_3\\lib\\site-packages (from sympy->torch>=1.8.1->stable-baselines3[extra]==1.3.0) (1.3.0)\n",
      "Requirement already satisfied: pyasn1<0.7.0,>=0.4.6 in d:\\streetfighterrl\\env_3\\lib\\site-packages (from pyasn1-modules>=0.2.1->google-auth<3,>=1.6.3->tensorboard>=2.2.0->stable-baselines3[extra]==1.3.0) (0.6.1)\n",
      "Requirement already satisfied: oauthlib>=3.0.0 in d:\\streetfighterrl\\env_3\\lib\\site-packages (from requests-oauthlib>=0.7.0->google-auth-oauthlib<1.1,>=0.5->tensorboard>=2.2.0->stable-baselines3[extra]==1.3.0) (3.2.2)\n",
      "Note: you may need to restart the kernel to use updated packages.\n"
     ]
    },
    {
     "name": "stderr",
     "output_type": "stream",
     "text": [
      "\n",
      "[notice] A new release of pip is available: 23.2 -> 24.3.1\n",
      "[notice] To update, run: python.exe -m pip install --upgrade pip\n"
     ]
    }
   ],
   "source": [
    "%pip install stable-baselines3[extra]==1.3.0"
   ]
  },
  {
   "cell_type": "code",
   "execution_count": 29,
   "metadata": {},
   "outputs": [
    {
     "name": "stdout",
     "output_type": "stream",
     "text": [
      "Requirement already satisfied: optuna in d:\\streetfighterrl\\env_3\\lib\\site-packages (4.0.0)\n",
      "Requirement already satisfied: alembic>=1.5.0 in d:\\streetfighterrl\\env_3\\lib\\site-packages (from optuna) (1.13.3)\n",
      "Requirement already satisfied: colorlog in d:\\streetfighterrl\\env_3\\lib\\site-packages (from optuna) (6.8.2)\n",
      "Requirement already satisfied: numpy in d:\\streetfighterrl\\env_3\\lib\\site-packages (from optuna) (1.24.4)\n",
      "Requirement already satisfied: packaging>=20.0 in d:\\streetfighterrl\\env_3\\lib\\site-packages (from optuna) (24.1)\n",
      "Requirement already satisfied: sqlalchemy>=1.3.0 in d:\\streetfighterrl\\env_3\\lib\\site-packages (from optuna) (2.0.36)\n",
      "Requirement already satisfied: tqdm in d:\\streetfighterrl\\env_3\\lib\\site-packages (from optuna) (4.66.5)\n",
      "Requirement already satisfied: PyYAML in d:\\streetfighterrl\\env_3\\lib\\site-packages (from optuna) (6.0.2)\n",
      "Requirement already satisfied: Mako in d:\\streetfighterrl\\env_3\\lib\\site-packages (from alembic>=1.5.0->optuna) (1.3.6)\n",
      "Requirement already satisfied: typing-extensions>=4 in d:\\streetfighterrl\\env_3\\lib\\site-packages (from alembic>=1.5.0->optuna) (4.12.2)\n",
      "Requirement already satisfied: importlib-metadata in d:\\streetfighterrl\\env_3\\lib\\site-packages (from alembic>=1.5.0->optuna) (8.5.0)\n",
      "Requirement already satisfied: importlib-resources in d:\\streetfighterrl\\env_3\\lib\\site-packages (from alembic>=1.5.0->optuna) (6.4.5)\n",
      "Requirement already satisfied: greenlet!=0.4.17 in d:\\streetfighterrl\\env_3\\lib\\site-packages (from sqlalchemy>=1.3.0->optuna) (3.1.1)\n",
      "Requirement already satisfied: colorama in d:\\streetfighterrl\\env_3\\lib\\site-packages (from colorlog->optuna) (0.4.6)\n",
      "Requirement already satisfied: zipp>=3.20 in d:\\streetfighterrl\\env_3\\lib\\site-packages (from importlib-metadata->alembic>=1.5.0->optuna) (3.20.2)\n",
      "Requirement already satisfied: MarkupSafe>=0.9.2 in d:\\streetfighterrl\\env_3\\lib\\site-packages (from Mako->alembic>=1.5.0->optuna) (2.1.5)\n",
      "Note: you may need to restart the kernel to use updated packages.\n"
     ]
    },
    {
     "name": "stderr",
     "output_type": "stream",
     "text": [
      "\n",
      "[notice] A new release of pip is available: 23.2 -> 24.3.1\n",
      "[notice] To update, run: python.exe -m pip install --upgrade pip\n"
     ]
    }
   ],
   "source": [
    "%pip install optuna"
   ]
  },
  {
   "cell_type": "code",
   "execution_count": 30,
   "metadata": {},
   "outputs": [],
   "source": [
    "# Importing the optimzation frame - HPO\n",
    "import optuna\n",
    "# PPO algo for RL\n",
    "from stable_baselines3 import PPO, A2C, DQN\n",
    "# Bring in the eval policy method for metric calculation\n",
    "from stable_baselines3.common.evaluation import evaluate_policy\n",
    "# Import the sb3 monitor for logging \n",
    "from stable_baselines3.common.monitor import Monitor\n",
    "# Import the vec wrappers to vectorize and frame stack\n",
    "from stable_baselines3.common.vec_env import DummyVecEnv, VecFrameStack\n",
    "# Import os to deal with filepaths\n",
    "import os"
   ]
  },
  {
   "cell_type": "code",
   "execution_count": 31,
   "metadata": {},
   "outputs": [],
   "source": [
    "LOG_DIR = './logs/'\n",
    "OPT_DIR = './opt/'"
   ]
  },
  {
   "cell_type": "code",
   "execution_count": 32,
   "metadata": {},
   "outputs": [],
   "source": [
    "# alternative version to use later to bypass factor 64 error\n",
    "\n",
    "# PPO optimization parameters\n",
    "PPO_PARAMS = {\n",
    "    # 1. Core Parameters\n",
    "    'n_steps_range': (2048, 4096),            \n",
    "    # How many steps to run before updating the policy\n",
    "    # - Larger values (4096): More stable learning, better for complex patterns\n",
    "    # - Smaller values (2048): Faster updates, but potentially less stable\n",
    "    # - Must be factor of 64 for efficiency\n",
    "    \n",
    "    'gamma_range': (0.95, 0.9999),             \n",
    "    # Discount factor for future rewards\n",
    "    # - Higher values (0.995): Values future rewards more (good for long-term strategy)\n",
    "    # - Lower values (0.95): More focus on immediate rewards\n",
    "    # - Street Fighter needs high gamma for combo learning\n",
    "    \n",
    "    'learning_rate_range': (5e-8, 1e-6),      \n",
    "    # How big steps to take when updating the policy\n",
    "    # - Higher values (5e-5): Faster learning but more unstable\n",
    "    # - Lower values (1e-5): More stable but slower learning\n",
    "    # - Lowered from original due to training instability\n",
    "    \n",
    "    'clip_range_range': (0.1, 0.3),           \n",
    "    # How much to limit policy updates\n",
    "    # - Higher values (0.3): Allows bigger policy changes\n",
    "    # - Lower values (0.1): More conservative updates\n",
    "    # - Centered around PPO standard of 0.2\n",
    "    \n",
    "    'gae_lambda_range': (0.9, 0.98),          \n",
    "    # Controls advantage estimation smoothing\n",
    "    # - Higher values (0.98): Better for long-term credit assignment\n",
    "    # - Lower values (0.9): More focus on immediate advantages\n",
    "    # - Important for linking moves into combos\n",
    "    \n",
    "    # 2. Advanced Parameters\n",
    "    'ent_coef_range': (1e-8, 1e-3),          \n",
    "    # Controls exploration vs exploitation\n",
    "    # - Higher values (1e-3): More random actions/exploration\n",
    "    # - Lower values (1e-8): More focused on best known moves\n",
    "    # - Critical for discovering new combat strategies\n",
    "    \n",
    "    'vf_coef_range': (0.5, 1.0),             \n",
    "    # Balances value function vs policy learning\n",
    "    # - Higher values (1.0): More emphasis on state value estimation\n",
    "    # - Lower values (0.5): More emphasis on action selection\n",
    "    # - Helps agent understand positioning and health advantages\n",
    "    \n",
    "    'n_epochs_range': (5, 15),                \n",
    "    # How many times to reuse each batch of data\n",
    "    # - Higher values (15): More thorough learning from each experience\n",
    "    # - Lower values (5): Less chance of overfitting to recent experiences\n",
    "    # - Balances learning efficiency vs stability\n",
    "    \n",
    "    'batch_size_range': (64, 256)             \n",
    "    # Size of chunks for processing training data\n",
    "    # - Larger sizes (256): More stable updates but slower\n",
    "    # - Smaller sizes (64): Faster but potentially noisier updates\n",
    "    # - Must be power of 2 for efficiency\n",
    "}\n",
    "\n",
    "A2C_PARAMS = {\n",
    "    # Your current parameters\n",
    "    'n_steps_range': (5, 30),                  # Small steps, more frequent updates\n",
    "    'gamma_range': (0.95, 0.9999),               # General discount range\n",
    "    'learning_rate_range': (5e-8, 1e-6),       # Higher learning rates typically better\n",
    "    'ent_coef_range': (1e-8, 1e-3),           # Entropy coefficient for exploration\n",
    "    'vf_coef_range': (0.5, 1.0),              # Value function coefficient   \n",
    "    'gae_lambda_range': (0.9, 0.98),           # Generalized Advantage Estimation lambda           \n",
    "}\n",
    "\n",
    "DQN_PARAMS = {\n",
    "    'buffer_size_range': (50000, 100000),      # Smaller buffer size for quicker access\n",
    "    'gamma_range': (0.9, 0.99),                # High gamma for long-term rewards\n",
    "    'learning_rate_range': (1e-5, 1e-4),       # Lower learning rate for stability\n",
    "    'batch_size_range': (32, 128),             # Standard DQN batch sizes\n",
    "    'train_freq_range': (4, 16),               # Frequent updates to maintain stability\n",
    "}\n",
    "\n",
    "# Define the optimization function for PPO\n",
    "def optimize_ppo(trial):\n",
    "    return {\n",
    "        # Dynamically Optimized Parameters\n",
    "        'n_steps': trial.suggest_categorical('n_steps', range(PPO_PARAMS['n_steps_range'][0], PPO_PARAMS['n_steps_range'][1], 64)),\n",
    "\n",
    "        'gamma': trial.suggest_loguniform('gamma', *PPO_PARAMS['gamma_range']),\n",
    "\n",
    "        'learning_rate': trial.suggest_loguniform('learning_rate', *PPO_PARAMS['learning_rate_range']),\n",
    "\n",
    "        'clip_range': trial.suggest_uniform('clip_range', *PPO_PARAMS['clip_range_range']),\n",
    "\n",
    "        'gae_lambda': trial.suggest_uniform('gae_lambda', *PPO_PARAMS['gae_lambda_range']),\n",
    "\n",
    "        'ent_coef': trial.suggest_loguniform('ent_coef', *PPO_PARAMS['ent_coef_range']),\n",
    "\n",
    "        'vf_coef': trial.suggest_uniform('vf_coef', *PPO_PARAMS['vf_coef_range']),\n",
    "\n",
    "        'n_epochs': trial.suggest_int('n_epochs', *PPO_PARAMS['n_epochs_range']),\n",
    "\n",
    "        'batch_size': trial.suggest_categorical('batch_size', [64, 128, 256]),\n",
    "        \n",
    "        # Fixed Parameters (Stability Controls)\n",
    "        'max_grad_norm': 0.5,          # Prevents explosive gradients\n",
    "        'clip_range_vf': None,         # Uses same clipping as policy\n",
    "        'target_kl': None,             # No KL divergence target\n",
    "    }\n",
    "\n",
    "def optimize_a2c(trial):\n",
    "    return {\n",
    "        'n_steps': trial.suggest_int('n_steps', *A2C_PARAMS['n_steps_range']),\n",
    "\n",
    "        'gamma': trial.suggest_loguniform('gamma', *A2C_PARAMS['gamma_range']),\n",
    "\n",
    "        'learning_rate': trial.suggest_loguniform('learning_rate', *A2C_PARAMS['learning_rate_range']),\n",
    "\n",
    "        'ent_coef': trial.suggest_loguniform('ent_coef', *A2C_PARAMS['ent_coef_range']),\n",
    "\n",
    "        'vf_coef': trial.suggest_uniform('vf_coef', *A2C_PARAMS['vf_coef_range']),\n",
    "        \n",
    "        'gae_lambda': trial.suggest_uniform('gae_lambda', *A2C_PARAMS['gae_lambda_range']),\n",
    "\n",
    "        # Fixed Parameters (Stability Controls)\n",
    "        'max_grad_norm': 0.5,          # Prevents explosive gradients\n",
    "    }\n",
    "\n",
    "def optimize_dqn(trial):\n",
    "    return {\n",
    "        'buffer_size': trial.suggest_int('buffer_size', *DQN_PARAMS['buffer_size_range']),\n",
    "        'gamma': trial.suggest_loguniform('gamma', *DQN_PARAMS['gamma_range']),\n",
    "        'learning_rate': trial.suggest_loguniform('learning_rate', *DQN_PARAMS['learning_rate_range']),\n",
    "        'batch_size': trial.suggest_categorical('batch_size', range(*DQN_PARAMS['batch_size_range'])),\n",
    "        'train_freq': trial.suggest_categorical('train_freq', range(*DQN_PARAMS['train_freq_range'])),\n",
    "    }\n"
   ]
  },
  {
   "cell_type": "code",
   "execution_count": 33,
   "metadata": {},
   "outputs": [],
   "source": [
    "SAVE_PATH = os.path.join(OPT_DIR, 'trial_{}_best_model'.format(1))"
   ]
  },
  {
   "cell_type": "code",
   "execution_count": 34,
   "metadata": {},
   "outputs": [],
   "source": [
    "ALGORITHMS = {\n",
    "    'PPO': (PPO, optimize_ppo),\n",
    "    'A2C': (A2C, optimize_a2c),\n",
    "    'DQN': (DQN, optimize_dqn),\n",
    "}\n",
    "\n",
    "def optimize_agent(trial, algo_name='PPO'):\n",
    "    try:\n",
    "        # Select algorithm and get hyperparameters\n",
    "        ModelClass, optimize_fn = ALGORITHMS[algo_name]\n",
    "        model_params = optimize_fn(trial)\n",
    "\n",
    "        # Create environment\n",
    "        env = StreetFighter()\n",
    "        env = Monitor(env, LOG_DIR)\n",
    "        env = DummyVecEnv([lambda: env])\n",
    "        env = VecFrameStack(env, 4, channels_order='last')\n",
    "\n",
    "        # Initialize and train model\n",
    "        model = ModelClass('CnnPolicy', env, tensorboard_log=LOG_DIR, verbose=0, **model_params) # would recommend looking into other cnnpolicy's if they are compatible\n",
    "        model.learn(total_timesteps=30000)\n",
    "\n",
    "        # Evaluate model\n",
    "        mean_reward, _ = evaluate_policy(model, env, n_eval_episodes=1)\n",
    "        env.close()\n",
    "\n",
    "        SAVE_PATH = os.path.join(OPT_DIR, 'trial_{}_best_model'.format(trial.number))\n",
    "        model.save(SAVE_PATH)\n",
    "\n",
    "        return mean_reward\n",
    "\n",
    "    except Exception as e:\n",
    "        return -1000"
   ]
  },
  {
   "cell_type": "code",
   "execution_count": 35,
   "metadata": {},
   "outputs": [
    {
     "name": "stderr",
     "output_type": "stream",
     "text": [
      "[I 2024-11-10 14:49:51,146] A new study created in memory with name: no-name-dd878bc2-5375-43be-8607-08da04e9cfad\n",
      "C:\\Users\\thoma\\AppData\\Local\\Temp\\ipykernel_20744\\2333909226.py:129: FutureWarning: suggest_loguniform has been deprecated in v3.0.0. This feature will be removed in v6.0.0. See https://github.com/optuna/optuna/releases/tag/v3.0.0. Use suggest_float(..., log=True) instead.\n",
      "  'gamma': trial.suggest_loguniform('gamma', *DQN_PARAMS['gamma_range']),\n",
      "C:\\Users\\thoma\\AppData\\Local\\Temp\\ipykernel_20744\\2333909226.py:130: FutureWarning: suggest_loguniform has been deprecated in v3.0.0. This feature will be removed in v6.0.0. See https://github.com/optuna/optuna/releases/tag/v3.0.0. Use suggest_float(..., log=True) instead.\n",
      "  'learning_rate': trial.suggest_loguniform('learning_rate', *DQN_PARAMS['learning_rate_range']),\n",
      "d:\\StreetFighterRL\\env_3\\lib\\site-packages\\stable_baselines3\\common\\buffers.py:219: UserWarning: This system does not have apparently enough memory to store the complete replay buffer 10.73GB > 5.90GB\n",
      "  warnings.warn(\n",
      "[I 2024-11-10 14:50:54,153] Trial 0 finished with value: -86.0 and parameters: {'buffer_size': 63349, 'gamma': 0.9704762263097907, 'learning_rate': 2.629854231943766e-05, 'batch_size': 102, 'train_freq': 14}. Best is trial 0 with value: -86.0.\n",
      "C:\\Users\\thoma\\AppData\\Local\\Temp\\ipykernel_20744\\2333909226.py:129: FutureWarning: suggest_loguniform has been deprecated in v3.0.0. This feature will be removed in v6.0.0. See https://github.com/optuna/optuna/releases/tag/v3.0.0. Use suggest_float(..., log=True) instead.\n",
      "  'gamma': trial.suggest_loguniform('gamma', *DQN_PARAMS['gamma_range']),\n",
      "C:\\Users\\thoma\\AppData\\Local\\Temp\\ipykernel_20744\\2333909226.py:130: FutureWarning: suggest_loguniform has been deprecated in v3.0.0. This feature will be removed in v6.0.0. See https://github.com/optuna/optuna/releases/tag/v3.0.0. Use suggest_float(..., log=True) instead.\n",
      "  'learning_rate': trial.suggest_loguniform('learning_rate', *DQN_PARAMS['learning_rate_range']),\n",
      "d:\\StreetFighterRL\\env_3\\lib\\site-packages\\stable_baselines3\\common\\buffers.py:219: UserWarning: This system does not have apparently enough memory to store the complete replay buffer 15.82GB > 6.11GB\n",
      "  warnings.warn(\n",
      "[I 2024-11-10 14:51:43,519] Trial 1 finished with value: 8338.0 and parameters: {'buffer_size': 93396, 'gamma': 0.9593904862463977, 'learning_rate': 7.07862542902491e-05, 'batch_size': 101, 'train_freq': 15}. Best is trial 1 with value: 8338.0.\n",
      "d:\\StreetFighterRL\\env_3\\lib\\site-packages\\stable_baselines3\\common\\buffers.py:219: UserWarning: This system does not have apparently enough memory to store the complete replay buffer 10.60GB > 6.09GB\n",
      "  warnings.warn(\n",
      "[I 2024-11-10 14:52:38,308] Trial 2 finished with value: 2644.1 and parameters: {'buffer_size': 62563, 'gamma': 0.9357984248213935, 'learning_rate': 3.0158798161675145e-05, 'batch_size': 103, 'train_freq': 14}. Best is trial 1 with value: 8338.0.\n"
     ]
    }
   ],
   "source": [
    "# Creating the experiment \n",
    "study = optuna.create_study(direction='maximize') # since mean reward is positive we maximize, otherwise minimize\n",
    "study.optimize(lambda trial: optimize_agent(trial, algo_name='DQN'), n_trials=3) # for prod used n_trials=100 (change algo name to change algos)"
   ]
  },
  {
   "cell_type": "code",
   "execution_count": 38,
   "metadata": {},
   "outputs": [
    {
     "data": {
      "text/plain": [
       "{'buffer_size': 93396,\n",
       " 'gamma': 0.9593904862463977,\n",
       " 'learning_rate': 7.07862542902491e-05,\n",
       " 'batch_size': 101,\n",
       " 'train_freq': 15}"
      ]
     },
     "execution_count": 38,
     "metadata": {},
     "output_type": "execute_result"
    }
   ],
   "source": [
    "study.best_params"
   ]
  },
  {
   "cell_type": "code",
   "execution_count": 39,
   "metadata": {},
   "outputs": [
    {
     "data": {
      "text/plain": [
       "FrozenTrial(number=1, state=TrialState.COMPLETE, values=[8338.0], datetime_start=datetime.datetime(2024, 11, 10, 14, 50, 54, 154725), datetime_complete=datetime.datetime(2024, 11, 10, 14, 51, 43, 519708), params={'buffer_size': 93396, 'gamma': 0.9593904862463977, 'learning_rate': 7.07862542902491e-05, 'batch_size': 101, 'train_freq': 15}, user_attrs={}, system_attrs={}, intermediate_values={}, distributions={'buffer_size': IntDistribution(high=100000, log=False, low=50000, step=1), 'gamma': FloatDistribution(high=0.99, log=True, low=0.9, step=None), 'learning_rate': FloatDistribution(high=0.0001, log=True, low=1e-05, step=None), 'batch_size': CategoricalDistribution(choices=(32, 33, 34, 35, 36, 37, 38, 39, 40, 41, 42, 43, 44, 45, 46, 47, 48, 49, 50, 51, 52, 53, 54, 55, 56, 57, 58, 59, 60, 61, 62, 63, 64, 65, 66, 67, 68, 69, 70, 71, 72, 73, 74, 75, 76, 77, 78, 79, 80, 81, 82, 83, 84, 85, 86, 87, 88, 89, 90, 91, 92, 93, 94, 95, 96, 97, 98, 99, 100, 101, 102, 103, 104, 105, 106, 107, 108, 109, 110, 111, 112, 113, 114, 115, 116, 117, 118, 119, 120, 121, 122, 123, 124, 125, 126, 127)), 'train_freq': CategoricalDistribution(choices=(4, 5, 6, 7, 8, 9, 10, 11, 12, 13, 14, 15))}, trial_id=1, value=None)"
      ]
     },
     "execution_count": 39,
     "metadata": {},
     "output_type": "execute_result"
    }
   ],
   "source": [
    "study.best_trial"
   ]
  },
  {
   "cell_type": "code",
   "execution_count": 40,
   "metadata": {},
   "outputs": [
    {
     "name": "stderr",
     "output_type": "stream",
     "text": [
      "d:\\StreetFighterRL\\env_3\\lib\\site-packages\\stable_baselines3\\common\\save_util.py:435: FutureWarning: You are using `torch.load` with `weights_only=False` (the current default value), which uses the default pickle module implicitly. It is possible to construct malicious pickle data which will execute arbitrary code during unpickling (See https://github.com/pytorch/pytorch/blob/main/SECURITY.md#untrusted-models for more details). In a future release, the default value for `weights_only` will be flipped to `True`. This limits the functions that could be executed during unpickling. Arbitrary objects will no longer be allowed to be loaded via this mode unless they are explicitly allowlisted by the user via `torch.serialization.add_safe_globals`. We recommend you start setting `weights_only=True` for any use case where you don't have full control of the loaded file. Please open an issue on GitHub for any issues related to this experimental feature.\n",
      "  th_object = th.load(file_content, map_location=device)\n",
      "d:\\StreetFighterRL\\env_3\\lib\\site-packages\\stable_baselines3\\common\\buffers.py:219: UserWarning: This system does not have apparently enough memory to store the complete replay buffer 15.82GB > 6.06GB\n",
      "  warnings.warn(\n"
     ]
    }
   ],
   "source": [
    "# model = A2C.load(os.path.join(OPT_DIR, 'trial_4_best_model.zip'))\n",
    "model = DQN.load(os.path.join(OPT_DIR, 'trial_1_best_model.zip'))"
   ]
  },
  {
   "cell_type": "markdown",
   "metadata": {},
   "source": [
    "# Setup Callback"
   ]
  },
  {
   "cell_type": "code",
   "execution_count": 41,
   "metadata": {},
   "outputs": [],
   "source": [
    "# Import base callback \n",
    "from stable_baselines3.common.callbacks import BaseCallback"
   ]
  },
  {
   "cell_type": "code",
   "execution_count": 42,
   "metadata": {},
   "outputs": [],
   "source": [
    "class TrainAndLoggingCallback(BaseCallback): # continuously learn by starting from best parameters done above\n",
    "\n",
    "    def __init__(self, check_freq, save_path, verbose=1):\n",
    "        super(TrainAndLoggingCallback, self).__init__(verbose)\n",
    "        self.check_freq = check_freq\n",
    "        self.save_path = save_path\n",
    "\n",
    "    def _init_callback(self):\n",
    "        if self.save_path is not None:\n",
    "            os.makedirs(self.save_path, exist_ok=True)\n",
    "\n",
    "    def _on_step(self):\n",
    "        if self.n_calls % self.check_freq == 0:\n",
    "            model_path = os.path.join(self.save_path, 'best_model_{}'.format(self.n_calls))\n",
    "            self.model.save(model_path)\n",
    "\n",
    "        return True"
   ]
  },
  {
   "cell_type": "code",
   "execution_count": 43,
   "metadata": {},
   "outputs": [],
   "source": [
    "CHECKPOINT_DIR = './train/'"
   ]
  },
  {
   "cell_type": "code",
   "execution_count": 44,
   "metadata": {},
   "outputs": [],
   "source": [
    "callback = TrainAndLoggingCallback(check_freq=10000, save_path=CHECKPOINT_DIR)"
   ]
  },
  {
   "cell_type": "markdown",
   "metadata": {},
   "source": [
    "# Train Model"
   ]
  },
  {
   "cell_type": "code",
   "execution_count": 45,
   "metadata": {},
   "outputs": [],
   "source": [
    "# Create environment \n",
    "env = StreetFighter()\n",
    "env = Monitor(env, LOG_DIR)\n",
    "env = DummyVecEnv([lambda: env])\n",
    "env = VecFrameStack(env, 4, channels_order='last')"
   ]
  },
  {
   "cell_type": "code",
   "execution_count": 46,
   "metadata": {},
   "outputs": [],
   "source": [
    "model_params = study.best_params\n",
    "# model_params = hyperparams"
   ]
  },
  {
   "cell_type": "code",
   "execution_count": 47,
   "metadata": {},
   "outputs": [
    {
     "data": {
      "text/plain": [
       "{'buffer_size': 93396,\n",
       " 'gamma': 0.9593904862463977,\n",
       " 'learning_rate': 7.07862542902491e-05,\n",
       " 'batch_size': 101,\n",
       " 'train_freq': 15}"
      ]
     },
     "execution_count": 47,
     "metadata": {},
     "output_type": "execute_result"
    }
   ],
   "source": [
    "# model_params['n_steps'] = model_params['n_steps'] - (model_params['n_steps'] % 64)  # set n_steps to 7488 or a factor of 64 (ONLY NEEDED FOR PPO, CHECK YOUR STEPS AND CHANGE TO FAC OF 64)\n",
    "# model_params['learning_rate'] = 5e-7 -> if really slow at training\n",
    "model_params"
   ]
  },
  {
   "cell_type": "code",
   "execution_count": 48,
   "metadata": {},
   "outputs": [
    {
     "name": "stdout",
     "output_type": "stream",
     "text": [
      "Using cpu device\n",
      "Wrapping the env in a VecTransposeImage.\n"
     ]
    },
    {
     "name": "stderr",
     "output_type": "stream",
     "text": [
      "d:\\StreetFighterRL\\env_3\\lib\\site-packages\\stable_baselines3\\common\\buffers.py:219: UserWarning: This system does not have apparently enough memory to store the complete replay buffer 15.82GB > 6.04GB\n",
      "  warnings.warn(\n"
     ]
    }
   ],
   "source": [
    "model = DQN('CnnPolicy', env, tensorboard_log=LOG_DIR, verbose=1, **model_params) # verbose 1 shows results as training\n",
    "# model = A2C('CnnPolicy', env, tensorboard_log=LOG_DIR, verbose=1, **model_params) # verbose 1 shows results as training"
   ]
  },
  {
   "cell_type": "code",
   "execution_count": 49,
   "metadata": {},
   "outputs": [
    {
     "name": "stderr",
     "output_type": "stream",
     "text": [
      "d:\\StreetFighterRL\\env_3\\lib\\site-packages\\stable_baselines3\\common\\buffers.py:219: UserWarning: This system does not have apparently enough memory to store the complete replay buffer 15.82GB > 6.03GB\n",
      "  warnings.warn(\n"
     ]
    },
    {
     "data": {
      "text/plain": [
       "<stable_baselines3.dqn.dqn.DQN at 0x168a9934b80>"
      ]
     },
     "execution_count": 49,
     "metadata": {},
     "output_type": "execute_result"
    }
   ],
   "source": [
    "# Reload previous weights from HPO\n",
    "model.load(os.path.join(OPT_DIR, 'trial_1_best_model.zip'))"
   ]
  },
  {
   "cell_type": "code",
   "execution_count": 50,
   "metadata": {},
   "outputs": [
    {
     "name": "stdout",
     "output_type": "stream",
     "text": [
      "Logging to ./logs/DQN_4\n"
     ]
    },
    {
     "data": {
      "text/plain": [
       "<stable_baselines3.dqn.dqn.DQN at 0x168a996e040>"
      ]
     },
     "execution_count": 50,
     "metadata": {},
     "output_type": "execute_result"
    }
   ],
   "source": [
    "# Kick off training \n",
    "model.learn(total_timesteps=30000, callback=callback) # timestep 5000000 recommended"
   ]
  },
  {
   "cell_type": "code",
   "execution_count": 45,
   "metadata": {},
   "outputs": [],
   "source": [
    "# tensorboard --logdir=. \n",
    "# cd to logs\n",
    "# ^ use to visually see learning progress"
   ]
  },
  {
   "cell_type": "markdown",
   "metadata": {},
   "source": [
    "# Evaluate Model"
   ]
  },
  {
   "cell_type": "code",
   "execution_count": null,
   "metadata": {},
   "outputs": [
    {
     "name": "stderr",
     "output_type": "stream",
     "text": [
      "d:\\StreetFighterRL\\env_3\\lib\\site-packages\\stable_baselines3\\common\\save_util.py:435: FutureWarning: You are using `torch.load` with `weights_only=False` (the current default value), which uses the default pickle module implicitly. It is possible to construct malicious pickle data which will execute arbitrary code during unpickling (See https://github.com/pytorch/pytorch/blob/main/SECURITY.md#untrusted-models for more details). In a future release, the default value for `weights_only` will be flipped to `True`. This limits the functions that could be executed during unpickling. Arbitrary objects will no longer be allowed to be loaded via this mode unless they are explicitly allowlisted by the user via `torch.serialization.add_safe_globals`. We recommend you start setting `weights_only=True` for any use case where you don't have full control of the loaded file. Please open an issue on GitHub for any issues related to this experimental feature.\n",
      "  th_object = th.load(file_content, map_location=device)\n"
     ]
    }
   ],
   "source": [
    "model = DQN.load('./train/best_model_30000.zip')\n",
    "# model = A2C.load('./train/best_model_7000000.zip')"
   ]
  },
  {
   "cell_type": "code",
   "execution_count": 44,
   "metadata": {},
   "outputs": [],
   "source": [
    "mean_reward, _ = evaluate_policy(model, env, render=True, n_eval_episodes=1)"
   ]
  },
  {
   "cell_type": "code",
   "execution_count": 32,
   "metadata": {},
   "outputs": [
    {
     "data": {
      "text/plain": [
       "2000.0"
      ]
     },
     "execution_count": 32,
     "metadata": {},
     "output_type": "execute_result"
    }
   ],
   "source": [
    "mean_reward"
   ]
  },
  {
   "cell_type": "markdown",
   "metadata": {},
   "source": [
    "# Testing Model"
   ]
  },
  {
   "cell_type": "code",
   "execution_count": 22,
   "metadata": {},
   "outputs": [],
   "source": [
    "obs = env.reset()"
   ]
  },
  {
   "cell_type": "code",
   "execution_count": 26,
   "metadata": {},
   "outputs": [
    {
     "data": {
      "text/plain": [
       "(1, 84, 84, 4)"
      ]
     },
     "execution_count": 26,
     "metadata": {},
     "output_type": "execute_result"
    }
   ],
   "source": [
    "obs.shape"
   ]
  },
  {
   "cell_type": "code",
   "execution_count": 72,
   "metadata": {},
   "outputs": [
    {
     "data": {
      "text/plain": [
       "(array([[[[  0,   0,  36,   0],\n",
       "          [  0,   0,  36,   0],\n",
       "          [  0,   0,  33,   0],\n",
       "          ...,\n",
       "          [  0,   0,  37,   0],\n",
       "          [  0,   0,  34,   0],\n",
       "          [  0,   0,  36,   0]],\n",
       " \n",
       "         [[  0,   0,  36,   0],\n",
       "          [  0,   0,  36,   0],\n",
       "          [  0,   0,  35,   0],\n",
       "          ...,\n",
       "          [  0,   0,  36,   0],\n",
       "          [  0,   0,  40,   0],\n",
       "          [  0,   0,  40,   0]],\n",
       " \n",
       "         [[  0,   0,  36,   0],\n",
       "          [  0,   0,  36,   0],\n",
       "          [  0,   0,  36,   0],\n",
       "          ...,\n",
       "          [  0,   0,  36,   0],\n",
       "          [  0,   0,  36,   0],\n",
       "          [  0,   0,  36,   0]],\n",
       " \n",
       "         ...,\n",
       " \n",
       "         [[  0,   0, 162,   0],\n",
       "          [  0,   0, 159,   0],\n",
       "          [  0,   0, 159,   0],\n",
       "          ...,\n",
       "          [  0,   0, 159,   0],\n",
       "          [  0,   0, 159,   0],\n",
       "          [  0,   0, 159,   0]],\n",
       " \n",
       "         [[  0,   0, 162,   0],\n",
       "          [  0,   0, 162,   0],\n",
       "          [  0,   0, 162,   0],\n",
       "          ...,\n",
       "          [  0,   0, 162,   0],\n",
       "          [  0,   0, 162,   0],\n",
       "          [  0,   0, 162,   0]],\n",
       " \n",
       "         [[  0,   0, 162,   0],\n",
       "          [  0,   0, 162,   0],\n",
       "          [  0,   0, 162,   0],\n",
       "          ...,\n",
       "          [  0,   0, 162,   0],\n",
       "          [  0,   0, 162,   0],\n",
       "          [  0,   0, 162,   0]]]], dtype=uint8),\n",
       " array([0.], dtype=float32),\n",
       " array([False]),\n",
       " [{'enemy_matches_won': 0,\n",
       "   'score': 0,\n",
       "   'matches_won': 0,\n",
       "   'continuetimer': 0,\n",
       "   'enemy_health': 176,\n",
       "   'health': 176}])"
      ]
     },
     "execution_count": 72,
     "metadata": {},
     "output_type": "execute_result"
    }
   ],
   "source": [
    "env.step(model.predict(obs)[0])"
   ]
  },
  {
   "cell_type": "code",
   "execution_count": null,
   "metadata": {},
   "outputs": [
    {
     "ename": "",
     "evalue": "",
     "output_type": "error",
     "traceback": [
      "\u001b[1;31mThe Kernel crashed while executing code in the current cell or a previous cell. \n",
      "\u001b[1;31mPlease review the code in the cell(s) to identify a possible cause of the failure. \n",
      "\u001b[1;31mClick <a href='https://aka.ms/vscodeJupyterKernelCrash'>here</a> for more info. \n",
      "\u001b[1;31mView Jupyter <a href='command:jupyter.viewOutput'>log</a> for further details."
     ]
    }
   ],
   "source": [
    "# Reset game to starting state\n",
    "obs = env.reset()\n",
    "# Set flag to flase\n",
    "done = False\n",
    "for game in range(1): \n",
    "    while not done: \n",
    "        if done: \n",
    "            obs = env.reset()\n",
    "        env.render()\n",
    "        action = model.predict(obs)[0]\n",
    "        # print(action)\n",
    "        obs, reward, done, info = env.step(action)\n",
    "        # time.sleep(0.01)\n",
    "        # print(reward)"
   ]
  },
  {
   "cell_type": "code",
   "execution_count": 45,
   "metadata": {},
   "outputs": [],
   "source": [
    "env.close()"
   ]
  },
  {
   "cell_type": "code",
   "execution_count": 46,
   "metadata": {},
   "outputs": [],
   "source": [
    "env = StreetFighter()"
   ]
  },
  {
   "cell_type": "code",
   "execution_count": 47,
   "metadata": {},
   "outputs": [
    {
     "data": {
      "text/plain": [
       "(84, 84, 3)"
      ]
     },
     "execution_count": 47,
     "metadata": {},
     "output_type": "execute_result"
    }
   ],
   "source": [
    "env.observation_space.shape"
   ]
  },
  {
   "cell_type": "code",
   "execution_count": 48,
   "metadata": {},
   "outputs": [
    {
     "data": {
      "text/plain": [
       "()"
      ]
     },
     "execution_count": 48,
     "metadata": {},
     "output_type": "execute_result"
    }
   ],
   "source": [
    "env.action_space.shape"
   ]
  },
  {
   "cell_type": "code",
   "execution_count": 49,
   "metadata": {},
   "outputs": [
    {
     "name": "stderr",
     "output_type": "stream",
     "text": [
      "d:\\StreetFighterRL\\env_3\\lib\\site-packages\\pyglet\\libs\\win32\\__init__.py:318: UserWarning: Could not set COM MTA mode. Unexpected behavior may occur.\n",
      "  warnings.warn(\"Could not set COM MTA mode. Unexpected behavior may occur.\")\n"
     ]
    },
    {
     "ename": "KeyboardInterrupt",
     "evalue": "",
     "output_type": "error",
     "traceback": [
      "\u001b[1;31m---------------------------------------------------------------------------\u001b[0m",
      "\u001b[1;31mKeyboardInterrupt\u001b[0m                         Traceback (most recent call last)",
      "Cell \u001b[1;32mIn[49], line 11\u001b[0m\n\u001b[0;32m      9\u001b[0m env\u001b[38;5;241m.\u001b[39mrender()\n\u001b[0;32m     10\u001b[0m obs, reward, done, info \u001b[38;5;241m=\u001b[39m env\u001b[38;5;241m.\u001b[39mstep(env\u001b[38;5;241m.\u001b[39maction_space\u001b[38;5;241m.\u001b[39msample())\n\u001b[1;32m---> 11\u001b[0m \u001b[43mtime\u001b[49m\u001b[38;5;241;43m.\u001b[39;49m\u001b[43msleep\u001b[49m\u001b[43m(\u001b[49m\u001b[38;5;241;43m0.01\u001b[39;49m\u001b[43m)\u001b[49m\n",
      "\u001b[1;31mKeyboardInterrupt\u001b[0m: "
     ]
    }
   ],
   "source": [
    "# Reset game to starting state\n",
    "obs = env.reset()\n",
    "# Set flag to flase\n",
    "done = False\n",
    "for game in range(1): \n",
    "    while not done: \n",
    "        if done: \n",
    "            obs = env.reset()\n",
    "        env.render()\n",
    "        obs, reward, done, info = env.step(env.action_space.sample())\n",
    "        time.sleep(0.01)"
   ]
  },
  {
   "cell_type": "code",
   "execution_count": 50,
   "metadata": {},
   "outputs": [],
   "source": [
    "obs = env.reset()"
   ]
  },
  {
   "cell_type": "code",
   "execution_count": 51,
   "metadata": {},
   "outputs": [],
   "source": [
    "obs, reward, done, info = env.step(env.action_space.sample())"
   ]
  },
  {
   "cell_type": "code",
   "execution_count": 52,
   "metadata": {},
   "outputs": [],
   "source": [
    "preprocessed = env.preprocess(obs)"
   ]
  },
  {
   "cell_type": "code",
   "execution_count": 53,
   "metadata": {},
   "outputs": [
    {
     "data": {
      "text/plain": [
       "<Figure size 1500x500 with 0 Axes>"
      ]
     },
     "execution_count": 53,
     "metadata": {},
     "output_type": "execute_result"
    },
    {
     "data": {
      "text/plain": [
       "<Figure size 1500x500 with 0 Axes>"
      ]
     },
     "metadata": {},
     "output_type": "display_data"
    }
   ],
   "source": [
    "plt.figure(figsize=(15, 5))"
   ]
  },
  {
   "cell_type": "code",
   "execution_count": 54,
   "metadata": {},
   "outputs": [
    {
     "data": {
      "text/plain": [
       "<matplotlib.image.AxesImage at 0x1e152d1a940>"
      ]
     },
     "execution_count": 54,
     "metadata": {},
     "output_type": "execute_result"
    },
    {
     "data": {
      "image/png": "[encoded data removed]",
      "text/plain": [
       "<Figure size 640x480 with 1 Axes>"
      ]
     },
     "metadata": {},
     "output_type": "display_data"
    }
   ],
   "source": [
    "# Original image\n",
    "plt.subplot(1, 3, 1)\n",
    "plt.title('Original')\n",
    "plt.imshow(cv2.cvtColor(obs, cv2.COLOR_BGR2RGB))"
   ]
  },
  {
   "cell_type": "code",
   "execution_count": 55,
   "metadata": {},
   "outputs": [
    {
     "data": {
      "text/plain": [
       "<matplotlib.image.AxesImage at 0x1e152ceccd0>"
      ]
     },
     "execution_count": 55,
     "metadata": {},
     "output_type": "execute_result"
    },
    {
     "data": {
      "image/png": "[encoded data removed]",
      "text/plain": [
       "<Figure size 640x480 with 1 Axes>"
      ]
     },
     "metadata": {},
     "output_type": "display_data"
    }
   ],
   "source": [
    "# Preprocessed image\n",
    "plt.subplot(1, 3, 2)\n",
    "plt.title('Preprocessed (8 Colors)')\n",
    "plt.imshow(preprocessed)"
   ]
  },
  {
   "cell_type": "code",
   "execution_count": 56,
   "metadata": {},
   "outputs": [],
   "source": [
    "# Color palette used\n",
    "unique_colors = np.unique(preprocessed.reshape(-1, 3), axis=0)\n",
    "color_display = np.zeros((100, len(unique_colors)*50, 3), dtype=np.uint8)\n",
    "for i, color in enumerate(unique_colors):\n",
    "    color_display[:, i*50:(i+1)*50] = color"
   ]
  },
  {
   "cell_type": "code",
   "execution_count": 57,
   "metadata": {},
   "outputs": [
    {
     "data": {
      "text/plain": [
       "(-0.5, 7149.5, 99.5, -0.5)"
      ]
     },
     "execution_count": 57,
     "metadata": {},
     "output_type": "execute_result"
    },
    {
     "data": {
      "image/png": "[encoded data removed]",
      "text/plain": [
       "<Figure size 640x480 with 1 Axes>"
      ]
     },
     "metadata": {},
     "output_type": "display_data"
    }
   ],
   "source": [
    "plt.subplot(1, 3, 3)\n",
    "plt.title(f'Unique Colors Used: {len(unique_colors)}')\n",
    "plt.imshow(color_display)\n",
    "plt.axis('off')"
   ]
  },
  {
   "cell_type": "code",
   "execution_count": 58,
   "metadata": {},
   "outputs": [
    {
     "data": {
      "text/plain": [
       "<Figure size 640x480 with 0 Axes>"
      ]
     },
     "metadata": {},
     "output_type": "display_data"
    }
   ],
   "source": [
    "plt.tight_layout()\n",
    "plt.show()"
   ]
  }
 ],
 "metadata": {
  "kernelspec": {
   "display_name": "env_3",
   "language": "python",
   "name": "python3"
  },
  "language_info": {
   "codemirror_mode": {
    "name": "ipython",
    "version": 3
   },
   "file_extension": ".py",
   "mimetype": "text/x-python",
   "name": "python",
   "nbconvert_exporter": "python",
   "pygments_lexer": "ipython3",
   "version": "3.8.8"
  }
 },
 "nbformat": 4,
 "nbformat_minor": 2
}
